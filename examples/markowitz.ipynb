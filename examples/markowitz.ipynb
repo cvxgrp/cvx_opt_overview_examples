{
 "cells": [
  {
   "cell_type": "code",
   "execution_count": 30,
   "metadata": {},
   "outputs": [],
   "source": [
    "import numpy as np\n",
    "import pandas as pd\n",
    "from cvx.covariance.ewma import iterated_ewma\n",
    "from loguru import logger\n",
    "import matplotlib.pyplot as plt\n",
    "import seaborn as sns\n",
    "\n",
    "from markowitz import run_backtest, run_backtest_basic"
   ]
  },
  {
   "cell_type": "markdown",
   "metadata": {},
   "source": [
    "# Load data"
   ]
  },
  {
   "cell_type": "code",
   "execution_count": 31,
   "metadata": {},
   "outputs": [],
   "source": [
    "prices = pd.read_csv('../data/prices.csv', index_col=0, parse_dates=True).iloc[:, :]\n",
    "returns = prices.pct_change().iloc[1:]\n",
    "spreads = pd.read_csv('../data/spreads.csv', index_col=0, parse_dates=True).iloc[:, :]\n",
    "volas = returns.ewm(halflife=63).std()"
   ]
  },
  {
   "cell_type": "markdown",
   "metadata": {},
   "source": [
    "# Means"
   ]
  },
  {
   "cell_type": "code",
   "execution_count": 32,
   "metadata": {},
   "outputs": [],
   "source": [
    "rng = np.random.default_rng(0)\n",
    "\n",
    "IC = 0.3\n",
    "means = IC * (IC * returns.rolling(5).mean().shift(-4) + volas * np.sqrt(1-IC**2) * rng.normal(size=returns.shape))"
   ]
  },
  {
   "cell_type": "markdown",
   "metadata": {},
   "source": [
    "# Covariances"
   ]
  },
  {
   "cell_type": "code",
   "execution_count": 33,
   "metadata": {},
   "outputs": [],
   "source": [
    "iewma_pair = (63, 250)\n",
    "\n",
    "iterator = iterated_ewma(returns, vola_halflife=iewma_pair[0], cov_halflife=iewma_pair[1], min_periods_vola=21, min_periods_cov=100)\n",
    "choleskies = {iterate.time: pd.DataFrame(np.linalg.cholesky(iterate.covariance), index=iterate.covariance.index, columns=iterate.covariance.columns) for iterate in iterator}"
   ]
  },
  {
   "cell_type": "markdown",
   "metadata": {},
   "source": [
    "# Markowitz"
   ]
  },
  {
   "cell_type": "code",
   "execution_count": 34,
   "metadata": {},
   "outputs": [
    {
     "name": "stderr",
     "output_type": "stream",
     "text": [
      "\u001b[32m2024-11-10 16:46:31.232\u001b[0m | \u001b[1mINFO    \u001b[0m | \u001b[36m__main__\u001b[0m:\u001b[36m<module>\u001b[0m:\u001b[36m3\u001b[0m - \u001b[1mRunning basic backtest\u001b[0m\n",
      "100%|██████████| 6067/6067 [00:17<00:00, 354.06it/s]\n",
      "100%|██████████| 6067/6067 [01:05<00:00, 93.22it/s] \n"
     ]
    }
   ],
   "source": [
    "dates = np.intersect1d(means.dropna(axis=0, how='all').index.tolist(), list(choleskies.keys()))\n",
    "\n",
    "logger.info('Running basic backtest')\n",
    "backtest_basic = run_backtest_basic(means.loc[dates], choleskies, gamma=250)\n",
    "\n",
    "logger.info('Running practical backtest')\n",
    "backtest_practical = run_backtest(means.loc[dates], spreads.loc[dates], choleskies, gamma_risk=35, gamma_trade=5)"
   ]
  },
  {
   "cell_type": "markdown",
   "metadata": {},
   "source": [
    "# Metrics"
   ]
  },
  {
   "cell_type": "code",
   "execution_count": 35,
   "metadata": {},
   "outputs": [],
   "source": [
    "def get_portfolio_returns(returns, spreads, backtest):\n",
    "    _returns = returns.values\n",
    "    _spreads = spreads.values\n",
    "    _weights = backtest.weights\n",
    "    _trades = np.abs(np.diff(_weights, axis=0))\n",
    "    \n",
    "    cost = np.hstack([np.array([0]), (_spreads[1:] * _trades).sum(axis=1)]) * 0.5\n",
    "\n",
    "    return (_weights * _returns).sum(axis=1) - cost \n",
    "\n",
    "def drawdown(pnl):\n",
    "    values = np.cumprod(1 + pnl)\n",
    "\n",
    "    max_values = np.maximum.accumulate(values)\n",
    "    return (values - max_values) / max_values"
   ]
  },
  {
   "cell_type": "code",
   "execution_count": 36,
   "metadata": {},
   "outputs": [
    {
     "data": {
      "text/html": [
       "<div>\n",
       "<style scoped>\n",
       "    .dataframe tbody tr th:only-of-type {\n",
       "        vertical-align: middle;\n",
       "    }\n",
       "\n",
       "    .dataframe tbody tr th {\n",
       "        vertical-align: top;\n",
       "    }\n",
       "\n",
       "    .dataframe thead th {\n",
       "        text-align: right;\n",
       "    }\n",
       "</style>\n",
       "<table border=\"1\" class=\"dataframe\">\n",
       "  <thead>\n",
       "    <tr style=\"text-align: right;\">\n",
       "      <th></th>\n",
       "      <th>Basic</th>\n",
       "      <th>Practical</th>\n",
       "    </tr>\n",
       "  </thead>\n",
       "  <tbody>\n",
       "    <tr>\n",
       "      <th>Mean</th>\n",
       "      <td>-0.098</td>\n",
       "      <td>0.381</td>\n",
       "    </tr>\n",
       "    <tr>\n",
       "      <th>Risk</th>\n",
       "      <td>0.116</td>\n",
       "      <td>0.119</td>\n",
       "    </tr>\n",
       "    <tr>\n",
       "      <th>Sharpe</th>\n",
       "      <td>-0.848</td>\n",
       "      <td>3.193</td>\n",
       "    </tr>\n",
       "    <tr>\n",
       "      <th>Drawdown</th>\n",
       "      <td>0.994</td>\n",
       "      <td>0.112</td>\n",
       "    </tr>\n",
       "  </tbody>\n",
       "</table>\n",
       "</div>"
      ],
      "text/plain": [
       "          Basic  Practical\n",
       "Mean     -0.098      0.381\n",
       "Risk      0.116      0.119\n",
       "Sharpe   -0.848      3.193\n",
       "Drawdown  0.994      0.112"
      ]
     },
     "execution_count": 36,
     "metadata": {},
     "output_type": "execute_result"
    }
   ],
   "source": [
    "returns_basic = get_portfolio_returns(returns.loc[dates], spreads.loc[dates], backtest_basic)  \n",
    "returns_practical = get_portfolio_returns(returns.loc[dates], spreads.loc[dates], backtest_practical)\n",
    "\n",
    "metrics = pd.DataFrame(dtype=float)\n",
    "\n",
    "metrics.loc['Mean', 'Basic'] = returns_basic.mean() * 250\n",
    "metrics.loc['Mean', 'Practical'] = returns_practical.mean() * 250\n",
    "\n",
    "metrics.loc['Risk', 'Basic'] = returns_basic.std() * np.sqrt(250)\n",
    "metrics.loc['Risk', 'Practical'] = returns_practical.std() * np.sqrt(250)\n",
    "\n",
    "metrics.loc['Sharpe', 'Basic'] = metrics.loc['Mean', 'Basic'] / metrics.loc['Risk', 'Basic']\n",
    "metrics.loc['Sharpe', 'Practical'] = metrics.loc['Mean', 'Practical'] / metrics.loc['Risk', 'Practical']\n",
    "\n",
    "metrics.loc['Drawdown', 'Basic'] = -drawdown(returns_basic).min()\n",
    "metrics.loc['Drawdown', 'Practical'] = -drawdown(returns_practical).min()\n",
    "\n",
    "metrics.round(3)"
   ]
  },
  {
   "cell_type": "code",
   "execution_count": 37,
   "metadata": {},
   "outputs": [
    {
     "data": {
      "image/png": "[encoded data removed]",
      "text/plain": [
       "<Figure size 650x450 with 1 Axes>"
      ]
     },
     "metadata": {},
     "output_type": "display_data"
    }
   ],
   "source": [
    "sns.set_theme(font_scale=1.5, style=\"whitegrid\")\n",
    "plt.figure(figsize=(6.5, 4.5))\n",
    "plt.plot(dates, np.cumprod(1 + returns_basic), label=r'Basic')\n",
    "plt.plot(dates, np.cumprod(1 + returns_practical), label=r'Practical')\n",
    "plt.yscale('log')\n",
    "plt.gcf().autofmt_xdate()\n",
    "plt.legend()\n",
    "plt.tight_layout()"
   ]
  }
 ],
 "metadata": {
  "kernelspec": {
   "display_name": ".venv",
   "language": "python",
   "name": "python3"
  },
  "language_info": {
   "codemirror_mode": {
    "name": "ipython",
    "version": 3
   },
   "file_extension": ".py",
   "mimetype": "text/x-python",
   "name": "python",
   "nbconvert_exporter": "python",
   "pygments_lexer": "ipython3",
   "version": "3.9.12"
  }
 },
 "nbformat": 4,
 "nbformat_minor": 2
}
