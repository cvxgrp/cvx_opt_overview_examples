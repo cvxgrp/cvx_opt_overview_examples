{
 "cells": [
  {
   "cell_type": "markdown",
   "metadata": {},
   "source": [
    "# Introduction\n",
    "This notebook shows how to estimate sparse inverse covariance matrices."
   ]
  },
  {
   "cell_type": "code",
   "execution_count": 1,
   "metadata": {},
   "outputs": [],
   "source": [
    "import numpy as np\n",
    "import pandas as pd\n",
    "import cvxpy as cp\n",
    "import yfinance as yf\n",
    "import matplotlib.pyplot as plt"
   ]
  },
  {
   "cell_type": "markdown",
   "metadata": {},
   "source": [
    "# Setup\n",
    "\n",
    "### Universe and objective\n",
    "We consider a universe of four assets, tracking the USA, Europe, Asia and Africa\n",
    "stock markets, during 2007-2024 The objective is to estimate a covariance matrix for these\n",
    "assets. We want the inverse covariance matrix to be sparse. The meaning of this\n",
    "(under a Gaussian assumption) is the following: the inverse covariance matrix\n",
    "between two assets is zero if and only if the two assets are conditionally\n",
    "independent given the other assets. For example, if the inverse covariance \n",
    "between the USA and Europe stock markets is zero, then the USA and Africa stock\n",
    "markets are conditionally independent given the returns of the Asia and Europe\n",
    "stock markets."
   ]
  },
  {
   "cell_type": "code",
   "execution_count": 2,
   "metadata": {},
   "outputs": [],
   "source": [
    "usa = yf.Ticker('SPY')\n",
    "europe = yf.Ticker('VGK')\n",
    "asia = yf.Ticker('AAXJ')\n",
    "africa = yf.Ticker('AFK')\n",
    "\n",
    "start = '2007-01-01'\n",
    "end = '2024-05-31'\n",
    "\n",
    "usa = usa.history(period='1d', start=start, end=end).Close\n",
    "europe = europe.history(period='1d', start=start, end=end).Close\n",
    "asia = asia.history(period='1d', start=start, end=end).Close\n",
    "africa = africa.history(period='1d', start=start, end=end).Close\n",
    "\n",
    "# remove time zones\n",
    "usa.index = usa.index.tz_localize(None)\n",
    "europe.index = europe.index.tz_localize(None)\n",
    "asia.index = asia.index.tz_localize(None)\n",
    "africa.index = africa.index.tz_localize(None)\n",
    "\n",
    "prices = pd.concat([usa, europe, asia, africa], axis=1).ffill().dropna()\n",
    "prices.columns = ['USA', 'Europe', 'Asia', 'Africa']\n",
    "returns = prices.pct_change().dropna()"
   ]
  },
  {
   "cell_type": "markdown",
   "metadata": {},
   "source": [
    "# Sparse inverse covariance estimation problem\n",
    "\n",
    "### Problem statement\n",
    "We model the returns of the four assets as a zero-mean Gaussian random vector\n",
    "$$\n",
    "r_t \\sim \\mathcal{N}(0, \\Sigma)\n",
    "$$\n",
    "where $r_t$ is the returns vector at time $t$ and $\\Sigma$ is the covariance\n",
    "matrix. The precision matrix is the inverse of the covariance matrix, $\\theta =\n",
    "\\Sigma^{-1}$. The log-likelihood at time $t$ is\n",
    "$$\n",
    "l_t(\\theta) =\n",
    "        \\frac{1}{2}\\left(-n\\log(2\\pi) + \\log\\det \\theta - r_t^T \\theta\n",
    "        r_t\\right).\n",
    "$$\n",
    "To attain a sparse precision matrix, we consider the following optimization\n",
    "problem:\n",
    "$$\n",
    "\\begin{array}{ll}\n",
    "        \\text{maximize}   & \\sum_{t=1}^T l_t(\\theta) - \\lambda \n",
    "\\sum_{i < j} |\\theta_{ij}| \\\\\n",
    "        \\text{subject to} & \\theta \\succeq 0,\n",
    "    \\end{array}\n",
    "$$\n",
    "with variable $\\theta$, where\n",
    "$\\lambda>0$ is a (sparsity) regularization parameter.\n",
    "\n"
   ]
  },
  {
   "cell_type": "code",
   "execution_count": 3,
   "metadata": {},
   "outputs": [],
   "source": [
    "def solve_spares_inverse_problem(returns, lam, solver=\"CLARABEL\"):\n",
    "    \"\"\"\n",
    "    Solve the sparse inverse problem using CVXPY.\"\"\"\n",
    "    T, n = returns.shape\n",
    "\n",
    "    Theta = cp.Variable((n, n), PSD=True)\n",
    "\n",
    "    S = returns.T @ returns / T\n",
    "    log_likelihood = T / 2 * (cp.log_det(Theta) -  cp.trace(Theta @ S))\n",
    "\n",
    "    mask = np.triu(np.ones((n, n)), k=1).astype(bool)\n",
    "    objective = log_likelihood - lam * cp.norm1(Theta[mask])\n",
    "\n",
    "    prob = cp.Problem(cp.Maximize(objective))\n",
    "    prob.solve(verbose=False, solver=solver)\n",
    "\n",
    "    return Theta.value\n",
    "\n"
   ]
  },
  {
   "cell_type": "markdown",
   "metadata": {},
   "source": [
    "# Example\n",
    "The following code snippet shows how the sparsity structure evolves over time\n",
    "for regularization parameter $\\lambda=0.05$. (White boxes denote zero entries.)"
   ]
  },
  {
   "cell_type": "code",
   "execution_count": 4,
   "metadata": {},
   "outputs": [
    {
     "data": {
      "image/png": "[encoded data removed]",
      "text/plain": [
       "<Figure size 800x300 with 16 Axes>"
      ]
     },
     "metadata": {},
     "output_type": "display_data"
    }
   ],
   "source": [
    "lam = 0.025\n",
    "years = returns.index.year.unique()[1:]\n",
    "\n",
    "fig, axs = plt.subplots(2, 8, figsize=(8, 3))\n",
    "\n",
    "\n",
    "for i, year in enumerate(years):\n",
    "    returns_year = returns.loc[str(year)]\n",
    "    Theta = solve_spares_inverse_problem(returns_year.values, lam)\n",
    "    Theta = pd.DataFrame(Theta, index=returns_year.columns, columns=returns_year.columns).astype(int)\n",
    "\n",
    "    mean_diag = np.mean(np.diag(Theta))\n",
    "    bools = Theta.abs() < 0.001*mean_diag \n",
    "    ax = axs[i // 8, i % 8]\n",
    "\n",
    "    im = ax.imshow(bools, cmap=\"gray\")  \n",
    "    ax.set_title(\"{}\".format(year))\n",
    "    ax.set_xticks([])\n",
    "    ax.set_yticks([])\n",
    "    \n",
    "# plt.savefig('../yearly_sparsity.pdf', bbox_inches='tight', pad_inches=0)"
   ]
  }
 ],
 "metadata": {
  "kernelspec": {
   "display_name": ".venv",
   "language": "python",
   "name": "python3"
  },
  "language_info": {
   "codemirror_mode": {
    "name": "ipython",
    "version": 3
   },
   "file_extension": ".py",
   "mimetype": "text/x-python",
   "name": "python",
   "nbconvert_exporter": "python",
   "pygments_lexer": "ipython3",
   "version": "3.9.12"
  },
  "orig_nbformat": 4
 },
 "nbformat": 4,
 "nbformat_minor": 2
}
